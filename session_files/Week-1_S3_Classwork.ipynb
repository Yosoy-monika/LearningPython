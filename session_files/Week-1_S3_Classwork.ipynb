{
 "cells": [
  {
   "cell_type": "markdown",
   "metadata": {},
   "source": []
  },
  {
   "cell_type": "code",
   "execution_count": null,
   "metadata": {},
   "outputs": [],
   "source": []
  },
  {
   "cell_type": "code",
   "execution_count": null,
   "metadata": {},
   "outputs": [],
   "source": []
  },
  {
   "cell_type": "markdown",
   "metadata": {},
   "source": [
    "### <> Ask user for the radius of circle and store that value in variables. Then calculate the area of circle and also the print the result on screen.\n",
    "\n",
    "$$ Area\\,of\\,Circle = \\pi\\,r^2$$"
   ]
  },
  {
   "cell_type": "code",
   "execution_count": 43,
   "metadata": {},
   "outputs": [
    {
     "name": "stdout",
     "output_type": "stream",
     "text": [
      "the radius of circle is:5\n",
      "the area of circle is:78.5 m²\n"
     ]
    }
   ],
   "source": [
    "radius=float(input(\"the radius of circle is:\"))\n",
    "# print(radius)\n",
    "area=3.14*radius**2\n",
    "print(\"the area of circle is:{} m\\u00b2\".format(area))\n",
    "# print('m\\uoob2')\n"
   ]
  },
  {
   "cell_type": "code",
   "execution_count": null,
   "metadata": {},
   "outputs": [],
   "source": []
  },
  {
   "cell_type": "markdown",
   "metadata": {},
   "source": [
    "### <> Ask user for the height and base of triangle and store those values in variables. Then calculate the area of triangle and also the print the result on screen.\n",
    "\n",
    "$$ Area\\,of\\,triangle = \\frac{1}{2}x\\,base\\,x\\,height$$"
   ]
  },
  {
   "cell_type": "code",
   "execution_count": null,
   "metadata": {},
   "outputs": [],
   "source": [
    "height=int(input(\"the height of triangle is:\"))\n",
    "base=float(input(\"the base of triangle is:\"))\n",
    "area=1/2*(base*height)\n",
    "print(\"the area of triangle is:\",area)"
   ]
  },
  {
   "cell_type": "markdown",
   "metadata": {},
   "source": [
    "### <> Write a program that asks user for their personal information and then print a bio for that user?\n",
    "\n",
    "For example ask user for their name, age, place he/she live etc. and then print bio like \n",
    "\n",
    "Hi!! my name is *user_name*. I'm *25 years* old. I live in *nepalgunj*. \n",
    "\n",
    "(you can be creative with bio)"
   ]
  },
  {
   "cell_type": "code",
   "execution_count": null,
   "metadata": {},
   "outputs": [],
   "source": [
    "print(\"what is your name\")\n",
    "name=input()\n",
    "print(\"how old are you\")\n",
    "age=input()\n",
    "print(\"where do you live\")\n",
    "place=input()\n",
    "print(\"hi!!\",\"my name is\",name,\"im\", age, \"years old.\",\"i live in\", place)"
   ]
  },
  {
   "cell_type": "markdown",
   "metadata": {},
   "source": [
    "## <> Ask user for the time value in seconds into for x hrs x min and x second.\n",
    "\n",
    "for example 9924 seconds can be expressed as *2 hrs 45 min 24 sec*"
   ]
  },
  {
   "cell_type": "code",
   "execution_count": null,
   "metadata": {},
   "outputs": [],
   "source": [
    "hour=int(input(\"enter the value of hour:\"))\n",
    "minute=float(input(\"enter the value of minute:\"))\n",
    "second=float(input(\"enter the value of second:\"))\n",
    "second=(second/3600)+(minute/60)+second\n",
    "second"
   ]
  },
  {
   "cell_type": "code",
   "execution_count": 24,
   "metadata": {},
   "outputs": [
    {
     "name": "stdout",
     "output_type": "stream",
     "text": [
      "enter the value of sec9924\n",
      "2 Hr 45 min 24 sec\n"
     ]
    }
   ],
   "source": [
    "\n",
    "sec=int(input(\"enter the value of sec\"))\n",
    "hrs=sec//3600\n",
    "hrs\n",
    "sec%=3600\n",
    "min=sec//60\n",
    "min\n",
    "sec%=60\n",
    "print(hrs,\"Hr\",min,\"min\",sec,\"sec\")\n",
    "\n"
   ]
  },
  {
   "cell_type": "code",
   "execution_count": null,
   "metadata": {},
   "outputs": [],
   "source": []
  },
  {
   "cell_type": "markdown",
   "metadata": {},
   "source": [
    "## <> Draw a rectangle with lenght=200 and width=100.\n"
   ]
  },
  {
   "cell_type": "code",
   "execution_count": null,
   "metadata": {},
   "outputs": [],
   "source": [
    "\n"
   ]
  },
  {
   "cell_type": "code",
   "execution_count": null,
   "metadata": {},
   "outputs": [],
   "source": []
  },
  {
   "cell_type": "code",
   "execution_count": null,
   "metadata": {},
   "outputs": [],
   "source": []
  },
  {
   "cell_type": "markdown",
   "metadata": {},
   "source": [
    "## <> Write your initial with turtle.\n"
   ]
  },
  {
   "cell_type": "code",
   "execution_count": null,
   "metadata": {},
   "outputs": [],
   "source": []
  },
  {
   "cell_type": "code",
   "execution_count": null,
   "metadata": {},
   "outputs": [],
   "source": []
  },
  {
   "cell_type": "code",
   "execution_count": null,
   "metadata": {},
   "outputs": [],
   "source": []
  },
  {
   "cell_type": "markdown",
   "metadata": {},
   "source": [
    "## <> Write your first name with turtle with each letter of different colors."
   ]
  },
  {
   "cell_type": "code",
   "execution_count": null,
   "metadata": {},
   "outputs": [],
   "source": []
  },
  {
   "cell_type": "code",
   "execution_count": null,
   "metadata": {},
   "outputs": [],
   "source": []
  },
  {
   "cell_type": "code",
   "execution_count": null,
   "metadata": {},
   "outputs": [],
   "source": []
  }
 ],
 "metadata": {
  "kernelspec": {
   "display_name": "Python 3",
   "language": "python",
   "name": "python3"
  },
  "language_info": {
   "codemirror_mode": {
    "name": "ipython",
    "version": 3
   },
   "file_extension": ".py",
   "mimetype": "text/x-python",
   "name": "python",
   "nbconvert_exporter": "python",
   "pygments_lexer": "ipython3",
   "version": "3.6.9"
  }
 },
 "nbformat": 4,
 "nbformat_minor": 4
}
