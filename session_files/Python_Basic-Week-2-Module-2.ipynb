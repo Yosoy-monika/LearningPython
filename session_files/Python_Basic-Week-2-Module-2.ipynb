{
 "cells": [
  {
   "cell_type": "markdown",
   "id": "7e0f5cd1",
   "metadata": {},
   "source": [
    "# Turtle graphics\n",
    "\n",
    "Turtle graphics is a popular way for introducing programming to kids. It was part of the original Logo programming language developed by Wally Feurzig and Seymour Papert in 1966.\n",
    "\n",
    "Imagine a robotic turtle starting at (0, 0) in the x-y plane. After an import turtle, give it the command turtle.forward(15), and it moves (on-screen!) 15 pixels in the direction it is facing, drawing a line as it moves. Give it the command turtle.right(25), and it rotates in-place 25 degrees clockwise.\n",
    "\n",
    "## Basic Commands\n",
    "\n",
    "|Commands|Function|\n",
    "|:-------|:-------|\n",
    "|turtle.forward(x)|moves turtle forward by distance x|\n",
    "|turtle.right(x)|turns turtle right by x degree|\n",
    "|turtle.left(x)|turns turtle left by x degree|\n",
    "|turtle.color('x')|change the color of turtle to color x( like red, blue)|\n",
    "|turtle.pensize(x)|change the thickness of line drawn to x (x is number like 1, 2, 3 etc.)|\n",
    "|turtle.shape(x)  | shapes can be “arrow”, “turtle”, “circle”, “square”, “triangle”, “classic”.|"
   ]
  },
  {
   "cell_type": "code",
   "execution_count": null,
   "id": "6eab242a",
   "metadata": {},
   "outputs": [],
   "source": [
    "import turtle as sashi\n"
   ]
  },
  {
   "cell_type": "code",
   "execution_count": null,
   "id": "c617f992",
   "metadata": {},
   "outputs": [],
   "source": [
    "sashi.shape('turtle') # set the shape of turtle.\n",
    "sashi.color('blue') # set the color of turtle \n",
    "sashi.turtlesize(3) # set the size of turtle\n",
    "sashi.pensize(5) # set the thickness of line drawn by turtle when it moves\n",
    "sashi.speed(10) # set the speed of turtle with which it moves on screen."
   ]
  },
  {
   "cell_type": "code",
   "execution_count": null,
   "id": "ddbdf2f8",
   "metadata": {},
   "outputs": [],
   "source": [
    "sashi.left(45) # turns the turtle left by 45 degree\n",
    "sashi.forward(200) #moves the turtle forward by 180 unit\n",
    "sashi.left(180) # turns the turtle left by 180 degree\n",
    "sashi.forward(200)\n",
    "sashi.left(90)\n",
    "sashi.forward(200)\n",
    "sashi.left(180)\n",
    "sashi.forward(200)\n",
    "sashi.right(45)\n",
    "sashi.forward(150)\n",
    "sashi.left(180)\n",
    "sashi.forward(300)"
   ]
  },
  {
   "cell_type": "code",
   "execution_count": null,
   "id": "7c9b4050",
   "metadata": {},
   "outputs": [],
   "source": [
    "sashi.bye()"
   ]
  },
  {
   "cell_type": "markdown",
   "id": "3b411b32",
   "metadata": {},
   "source": [
    "### draw a square  \n",
    "1) move turtle by 100 unit\n",
    "2) rotate turtle by 90\n",
    "3) move turtle by 100 unit\n",
    "4) rotate turtle by 90\n",
    "5) move turtle by 100 unit\n",
    "6) rotate turtle by 90 \n",
    "7) move turtle by 100"
   ]
  },
  {
   "cell_type": "code",
   "execution_count": null,
   "id": "a74b7ba2",
   "metadata": {},
   "outputs": [],
   "source": [
    "# Draws a square of length 100\n",
    "sashi.forward(100)\n",
    "sashi.left(90)\n",
    "sashi.forward(100)\n",
    "sashi.left(90)\n",
    "sashi.forward(100)\n",
    "sashi.left(90)\n",
    "sashi.forward(100)"
   ]
  },
  {
   "cell_type": "code",
   "execution_count": null,
   "id": "ea5339cc",
   "metadata": {},
   "outputs": [],
   "source": [
    "#Draws a rectangle of lenght 200 and width 100\n",
    "sashi.forward(200)\n",
    "sashi.left(90)\n",
    "sashi.forward(100)\n",
    "sashi.left(90)\n",
    "sashi.forward(200)\n",
    "sashi.left(90)\n",
    "sashi.forward(100)"
   ]
  },
  {
   "cell_type": "code",
   "execution_count": null,
   "id": "d020689a",
   "metadata": {},
   "outputs": [],
   "source": [
    "sashi.bye()"
   ]
  },
  {
   "cell_type": "code",
   "execution_count": null,
   "id": "78b91996",
   "metadata": {},
   "outputs": [],
   "source": [
    "#Draws a pentagon\n",
    "sashi.forward(200)\n",
    "sashi.left(72)\n",
    "sashi.forward(200)\n",
    "sashi.left(72)\n",
    "sashi.forward(200)\n",
    "sashi.left(72)\n",
    "sashi.forward(200)\n",
    "sashi.left(72)\n",
    "sashi.forward(200)"
   ]
  },
  {
   "cell_type": "code",
   "execution_count": null,
   "id": "24929045",
   "metadata": {},
   "outputs": [],
   "source": [
    "#Draws pentagon using for loop:\n",
    "for i in range(20):\n",
    "    sashi.forward(200)\n",
    "    sashi.left(72) "
   ]
  },
  {
   "cell_type": "code",
   "execution_count": null,
   "id": "1f38705f",
   "metadata": {
    "scrolled": true
   },
   "outputs": [],
   "source": []
  },
  {
   "cell_type": "code",
   "execution_count": null,
   "id": "27ae0dda",
   "metadata": {
    "scrolled": true
   },
   "outputs": [],
   "source": []
  },
  {
   "cell_type": "code",
   "execution_count": null,
   "id": "425cfe58",
   "metadata": {},
   "outputs": [],
   "source": []
  },
  {
   "cell_type": "code",
   "execution_count": null,
   "id": "1c10ec66",
   "metadata": {},
   "outputs": [],
   "source": [
    "\n",
    "sashi.forward(350)\n",
    "sashi.left(144)\n",
    "sashi.forward(350)\n",
    "sashi.left(144)\n",
    "sashi.forward(350)\n",
    "sashi.left(144)\n",
    "sashi.forward(350)\n",
    "sashi.left(144)\n",
    "sashi.forward(350)\n",
    "sashi.left(144)"
   ]
  },
  {
   "cell_type": "code",
   "execution_count": null,
   "id": "3b85a95b",
   "metadata": {},
   "outputs": [],
   "source": [
    "sashi.reset()"
   ]
  },
  {
   "cell_type": "code",
   "execution_count": null,
   "id": "7bd56273",
   "metadata": {},
   "outputs": [],
   "source": []
  },
  {
   "cell_type": "markdown",
   "id": "26b94a27",
   "metadata": {},
   "source": [
    "# Control Flow\n",
    "In the programs we have seen till now, there has always been a series of statements faithfully executed by Python in exact top-down order. What if you wanted to change the flow of how it works? For example, you want the program to take some decisions and do different things depending on different situations, such as printing 'Good Morning' or 'Good Evening' depending on the time of the day?\n",
    "\n",
    "This is achieved using control flow statements. There are three control flow statements in Python - if, for and while."
   ]
  },
  {
   "cell_type": "markdown",
   "id": "1472a07d",
   "metadata": {},
   "source": [
    "## For loop\n",
    "```for <var> in <iterable>:\n",
    "    <statement(s)>```"
   ]
  },
  {
   "cell_type": "code",
   "execution_count": 1,
   "id": "d4cf546f",
   "metadata": {},
   "outputs": [
    {
     "name": "stdout",
     "output_type": "stream",
     "text": [
      "0\n",
      "1\n",
      "2\n",
      "3\n",
      "4\n",
      "5\n",
      "6\n",
      "7\n",
      "8\n",
      "9\n"
     ]
    }
   ],
   "source": [
    "for i in range(10):\n",
    "    print(i)"
   ]
  },
  {
   "cell_type": "code",
   "execution_count": null,
   "id": "a95c6fb6",
   "metadata": {},
   "outputs": [],
   "source": [
    "for item in range(5): #loops the code five times\n",
    "    print(item)"
   ]
  },
  {
   "cell_type": "code",
   "execution_count": null,
   "id": "45c6222b",
   "metadata": {},
   "outputs": [],
   "source": [
    "for i in range(0,10): # loops the code 10 times but value to i ranges from 0 to 9\n",
    "    print(i)"
   ]
  },
  {
   "cell_type": "code",
   "execution_count": 1,
   "id": "c52f1033",
   "metadata": {},
   "outputs": [
    {
     "name": "stdout",
     "output_type": "stream",
     "text": [
      "0\n",
      "2\n",
      "4\n",
      "6\n",
      "8\n"
     ]
    }
   ],
   "source": [
    "for i in range(0,10,2): # loops the code 5 times in step of 2. values of i are 0,2,4,6,8\n",
    "    print(i)"
   ]
  },
  {
   "cell_type": "code",
   "execution_count": null,
   "id": "2f1527e5",
   "metadata": {},
   "outputs": [],
   "source": []
  },
  {
   "cell_type": "markdown",
   "id": "7259b560",
   "metadata": {},
   "source": [
    "# Functions:\n",
    "Functions are reusable pieces of programs. They allow you to give a name to a block of statements, allowing you to run that block using the specified name anywhere in your program and any number of times. This is known as calling the function. We have already used many built-in functions such as print, input, or range.\n",
    "We define function of using ```def``` keyword along with a ```identifier``` (i.e the name of the function),followed by a pair of parentheses which may enclose some names of variables, and by the final colon that ends the line. Next follows the intended block of statements that are part of this function. For example, \n",
    "```\n",
    "def [name of the funtion]():\n",
    "    (block of code)\n",
    "```"
   ]
  },
  {
   "cell_type": "code",
   "execution_count": null,
   "id": "a80e01d0",
   "metadata": {},
   "outputs": [],
   "source": [
    "def drawpentagon():\n",
    "    sashi.reset()\n",
    "    for i in range(5):\n",
    "        sashi.forward(200)\n",
    "        sashi.left(72)\n"
   ]
  },
  {
   "cell_type": "code",
   "execution_count": null,
   "id": "059f3c12",
   "metadata": {},
   "outputs": [],
   "source": [
    "#define the function named draw_polygon that takes number of loops as a argument or parameter\n",
    "def draw_polygon(numberofloops):\n",
    "    sashi.reset()\n",
    "    for i in range(numberofloops):\n",
    "        sashi.forward(200)\n",
    "        sashi.left(72)"
   ]
  },
  {
   "cell_type": "code",
   "execution_count": null,
   "id": "5cbee46e",
   "metadata": {},
   "outputs": [],
   "source": [
    "drawpentagon(5)"
   ]
  },
  {
   "cell_type": "code",
   "execution_count": null,
   "id": "71769d59",
   "metadata": {},
   "outputs": [],
   "source": []
  },
  {
   "cell_type": "code",
   "execution_count": null,
   "id": "0a01a7ec",
   "metadata": {},
   "outputs": [],
   "source": [
    "print(a)"
   ]
  },
  {
   "cell_type": "code",
   "execution_count": null,
   "id": "26990c8e",
   "metadata": {},
   "outputs": [],
   "source": [
    "sashi.bye()\n"
   ]
  },
  {
   "cell_type": "code",
   "execution_count": null,
   "id": "0d632838",
   "metadata": {},
   "outputs": [],
   "source": []
  },
  {
   "cell_type": "code",
   "execution_count": null,
   "id": "ebe2f855",
   "metadata": {},
   "outputs": [],
   "source": []
  },
  {
   "cell_type": "markdown",
   "id": "336b4552",
   "metadata": {},
   "source": [
    "# While loop\n",
    "while loop executes the code untill the given condition(s) is true. It is also called infinite loop.\n",
    "```while (condition(s)):\n",
    "    (block of code)```"
   ]
  },
  {
   "cell_type": "code",
   "execution_count": null,
   "id": "e2c57a46",
   "metadata": {},
   "outputs": [],
   "source": [
    "name = input('What is your name?')\n",
    "while name == 'sashi':\n",
    "    print('I donot like your name. Please! enter another name')\n",
    "    name = input('What is your name?')"
   ]
  },
  {
   "cell_type": "code",
   "execution_count": null,
   "id": "48618c0b",
   "metadata": {},
   "outputs": [],
   "source": []
  },
  {
   "cell_type": "code",
   "execution_count": null,
   "id": "01f0c375",
   "metadata": {},
   "outputs": [],
   "source": []
  },
  {
   "cell_type": "markdown",
   "id": "8980690c",
   "metadata": {},
   "source": [
    "# If, elif and else statement:\n",
    "The if statement is used to check a condition: if the condition is true, we run a block of statements (called the if-block), else we process another block of statements (called the else-block). The else clause is optional.\n",
    "```if (condition or conditions):\n",
    "       (block of code)\n",
    "else:\n",
    "       (block of code)```"
   ]
  },
  {
   "cell_type": "code",
   "execution_count": 5,
   "id": "838ab04b",
   "metadata": {},
   "outputs": [
    {
     "name": "stdout",
     "output_type": "stream",
     "text": [
      "Please enter the radius of circle: 121jlkj\n",
      "Area cannot be calculated because the input is not numeric.\n"
     ]
    }
   ],
   "source": [
    "radius = input('Please enter the radius of circle: ')\n",
    "if radius.isnumeric() == True:\n",
    "    print('Area can be calculated.')\n",
    "    print('Area can be calculated.')\n",
    "    print('Area can be calculated.')\n",
    "else:\n",
    "    print('Area cannot be calculated because the input is not numeric.')"
   ]
  },
  {
   "cell_type": "code",
   "execution_count": 13,
   "id": "935b1a86",
   "metadata": {},
   "outputs": [
    {
     "name": "stdout",
     "output_type": "stream",
     "text": [
      "Welcome to our party. What is your name?Sashi\n",
      "What is your age?18\n",
      "Do you have driving licence? yes\n",
      "you can enter now.\n"
     ]
    }
   ],
   "source": [
    "name=input(\"Welcome to our party. What is your name?\")\n",
    "age = input('What is your age?')\n",
    "if int(age) > 18 :\n",
    "    print(\"You can enter the party.\")\n",
    "elif int(age) == 18:\n",
    "    i = input('Do you have driving licence? ')\n",
    "    if i =='yes':\n",
    "        print('you can enter now.')\n",
    "    else:\n",
    "        print('you are not allowes because you cannot drive.')\n",
    "else:\n",
    "    print('You are not allowed.')"
   ]
  },
  {
   "cell_type": "code",
   "execution_count": 15,
   "id": "294bb9b7",
   "metadata": {},
   "outputs": [
    {
     "name": "stdout",
     "output_type": "stream",
     "text": [
      "Welcome to our party. What is your name?Sashi\n",
      "What is your age?25\n",
      "Do you have driving licence? no\n",
      "You are not allowed.\n"
     ]
    }
   ],
   "source": [
    "name=input(\"Welcome to our party. What is your name?\")\n",
    "age = input('What is your age?')\n",
    "licence = input('Do you have driving licence? ')\n",
    "if int(age) > 18 and licence == 'yes':\n",
    "    print(\"You can enter the party.\")\n",
    "else:\n",
    "    print('You are not allowed.')"
   ]
  },
  {
   "cell_type": "code",
   "execution_count": null,
   "id": "1e48b448",
   "metadata": {},
   "outputs": [],
   "source": []
  },
  {
   "cell_type": "code",
   "execution_count": 48,
   "id": "6f943ff1",
   "metadata": {},
   "outputs": [],
   "source": [
    "list1 = [1,2,3,'sashi','mango',1.2]\n",
    "\n"
   ]
  },
  {
   "cell_type": "code",
   "execution_count": 49,
   "id": "1a91f29e",
   "metadata": {},
   "outputs": [
    {
     "data": {
      "text/plain": [
       "[1, 2, 3, 'sashi', 'mango', 1.2]"
      ]
     },
     "execution_count": 49,
     "metadata": {},
     "output_type": "execute_result"
    }
   ],
   "source": [
    "list1"
   ]
  },
  {
   "cell_type": "code",
   "execution_count": 50,
   "id": "059ff63a",
   "metadata": {},
   "outputs": [],
   "source": [
    "list1[0] = 100"
   ]
  },
  {
   "cell_type": "code",
   "execution_count": 19,
   "id": "c7d6e417",
   "metadata": {},
   "outputs": [
    {
     "data": {
      "text/plain": [
       "[100, 2, 3, 'sashi', 'mango', 1.2]"
      ]
     },
     "execution_count": 19,
     "metadata": {},
     "output_type": "execute_result"
    }
   ],
   "source": [
    "list1\n"
   ]
  },
  {
   "cell_type": "markdown",
   "id": "3dadef56",
   "metadata": {},
   "source": [
    "# Data Structure: Tuple and Dictionary"
   ]
  },
  {
   "cell_type": "markdown",
   "id": "75bf3d95",
   "metadata": {},
   "source": [
    "## 1) What is Tuple?  \n",
    "> Tuples are ordered collection of heterogenous data.  \n",
    "  We define tuples as  \n",
    "  ``` tuple_object = (data1, data2, data3, .... etc)```"
   ]
  },
  {
   "cell_type": "markdown",
   "id": "faaab964",
   "metadata": {},
   "source": [
    "### Lets create a tuple  \n",
    "There are two ways to create tuple:  \n",
    "1) by creating a sequence of comma seperated datas enclose by braces '()'  \n",
    "2) using tuple function"
   ]
  },
  {
   "cell_type": "code",
   "execution_count": 23,
   "id": "e1fdb44f",
   "metadata": {},
   "outputs": [],
   "source": [
    "\n",
    "a = ('ram','hari','shyam')"
   ]
  },
  {
   "cell_type": "code",
   "execution_count": 24,
   "id": "f29d3703",
   "metadata": {},
   "outputs": [
    {
     "data": {
      "text/plain": [
       "('ram', 'hari', 'shyam')"
      ]
     },
     "execution_count": 24,
     "metadata": {},
     "output_type": "execute_result"
    }
   ],
   "source": [
    "a"
   ]
  },
  {
   "cell_type": "code",
   "execution_count": 29,
   "id": "8ded3d0e",
   "metadata": {},
   "outputs": [],
   "source": [
    "b = [1,2,3,4,5]"
   ]
  },
  {
   "cell_type": "code",
   "execution_count": 30,
   "id": "87037ad5",
   "metadata": {},
   "outputs": [],
   "source": [
    "c = tuple(b)"
   ]
  },
  {
   "cell_type": "code",
   "execution_count": 31,
   "id": "723b68aa",
   "metadata": {},
   "outputs": [
    {
     "data": {
      "text/plain": [
       "(1, 2, 3, 4, 5)"
      ]
     },
     "execution_count": 31,
     "metadata": {},
     "output_type": "execute_result"
    }
   ],
   "source": [
    "c"
   ]
  },
  {
   "cell_type": "code",
   "execution_count": null,
   "id": "70ab14ab",
   "metadata": {},
   "outputs": [],
   "source": []
  },
  {
   "cell_type": "markdown",
   "id": "c53e128a",
   "metadata": {},
   "source": [
    "### Packing and Unpacking of tuple"
   ]
  },
  {
   "cell_type": "code",
   "execution_count": 33,
   "id": "24b33cda",
   "metadata": {},
   "outputs": [
    {
     "name": "stdout",
     "output_type": "stream",
     "text": [
      "(100, 200)\n"
     ]
    }
   ],
   "source": [
    "coordinate =  100,200  # This is called packing\n",
    "print(coordinate)"
   ]
  },
  {
   "cell_type": "code",
   "execution_count": 34,
   "id": "ed0e055f",
   "metadata": {},
   "outputs": [
    {
     "name": "stdout",
     "output_type": "stream",
     "text": [
      "100\n",
      "200\n"
     ]
    }
   ],
   "source": [
    "x,y = coordinate  # This is called unpacking\n",
    "print(x)\n",
    "print(y)"
   ]
  },
  {
   "cell_type": "markdown",
   "id": "97667a12",
   "metadata": {},
   "source": [
    "### Accesing the items of tuple and slicing\n"
   ]
  },
  {
   "cell_type": "code",
   "execution_count": 43,
   "id": "87a82159",
   "metadata": {},
   "outputs": [],
   "source": [
    "a = (10,20,30,40,50,60,70,80)"
   ]
  },
  {
   "cell_type": "code",
   "execution_count": 44,
   "id": "64bb0777",
   "metadata": {},
   "outputs": [
    {
     "data": {
      "text/plain": [
       "20"
      ]
     },
     "execution_count": 44,
     "metadata": {},
     "output_type": "execute_result"
    }
   ],
   "source": [
    "a[1]"
   ]
  },
  {
   "cell_type": "code",
   "execution_count": 47,
   "id": "3543d4b5",
   "metadata": {},
   "outputs": [
    {
     "data": {
      "text/plain": [
       "(30, 40, 50, 60, 70, 80)"
      ]
     },
     "execution_count": 47,
     "metadata": {},
     "output_type": "execute_result"
    }
   ],
   "source": [
    "a[2:]"
   ]
  },
  {
   "cell_type": "code",
   "execution_count": 51,
   "id": "22b4a2f4",
   "metadata": {},
   "outputs": [
    {
     "ename": "TypeError",
     "evalue": "'tuple' object does not support item assignment",
     "output_type": "error",
     "traceback": [
      "\u001b[0;31m---------------------------------------------------------------------------\u001b[0m",
      "\u001b[0;31mTypeError\u001b[0m                                 Traceback (most recent call last)",
      "\u001b[0;32m<ipython-input-51-c8548dbc0a7e>\u001b[0m in \u001b[0;36m<module>\u001b[0;34m\u001b[0m\n\u001b[0;32m----> 1\u001b[0;31m \u001b[0ma\u001b[0m\u001b[0;34m[\u001b[0m\u001b[0;36m0\u001b[0m\u001b[0;34m]\u001b[0m \u001b[0;34m=\u001b[0m \u001b[0;36m1\u001b[0m\u001b[0;34m\u001b[0m\u001b[0;34m\u001b[0m\u001b[0m\n\u001b[0m",
      "\u001b[0;31mTypeError\u001b[0m: 'tuple' object does not support item assignment"
     ]
    }
   ],
   "source": [
    "a[0] = 1"
   ]
  },
  {
   "cell_type": "code",
   "execution_count": null,
   "id": "0f0d5e13",
   "metadata": {},
   "outputs": [],
   "source": []
  },
  {
   "cell_type": "code",
   "execution_count": null,
   "id": "bc6aa856",
   "metadata": {},
   "outputs": [],
   "source": []
  },
  {
   "cell_type": "markdown",
   "id": "a2da73d2",
   "metadata": {},
   "source": [
    "### Modify nested items of a tuple"
   ]
  },
  {
   "cell_type": "code",
   "execution_count": 52,
   "id": "c94d4a4a",
   "metadata": {},
   "outputs": [],
   "source": [
    "tuple2 = ('a','b',[1,2,3])"
   ]
  },
  {
   "cell_type": "code",
   "execution_count": 54,
   "id": "8c3cc570",
   "metadata": {},
   "outputs": [],
   "source": [
    "tuple2[2][0]=500"
   ]
  },
  {
   "cell_type": "code",
   "execution_count": 55,
   "id": "9165ab20",
   "metadata": {},
   "outputs": [
    {
     "data": {
      "text/plain": [
       "('a', 'b', [500, 2, 3])"
      ]
     },
     "execution_count": 55,
     "metadata": {},
     "output_type": "execute_result"
    }
   ],
   "source": [
    "tuple2"
   ]
  },
  {
   "cell_type": "markdown",
   "id": "55fb3d8d",
   "metadata": {},
   "source": [
    "## 1) What is dictionary?  \n",
    "> Dictionaries are unordered collections of unique values stored in (Key-Value) pairs.  \n",
    ">> For example:  \n",
    "```     dictionary  =  {'name':'sashi nepal','address':'dhumbojhi','house no':98481, 'ward':1}```\n",
    "$$\\uparrow\\,\\,\\,\\,\\,\\,\\,\\,\\,\\,\\,\\,\\,\\,\\,\\,\\,\\,\\,\\,\\,\\uparrow$$\n",
    "$$key\\,\\,\\,\\,\\,\\,\\,\\,\\,\\,\\,\\,\\,\\,\\,\\,\\,\\,\\,\\,\\,value$$  \n",
    "\n",
    "#### Properties: 1) Unordered  2) Unique  3) Mutable  \n",
    "\n",
    "### Lets create a dictionary:  \n",
    "1) by using curly braces '{}' enclosing comma seperated key-value pairs.  Here, key and value is seperated by a colon':'  \n",
    "2) by using dict function by passing comma-seperated key:value pairs as argument."
   ]
  },
  {
   "cell_type": "code",
   "execution_count": 17,
   "id": "e9a70e91",
   "metadata": {},
   "outputs": [],
   "source": [
    "dict1 = {'name':'sashi','address':'dhumbojhi','houseno':4654}"
   ]
  },
  {
   "cell_type": "code",
   "execution_count": 7,
   "id": "d36ed8c6",
   "metadata": {},
   "outputs": [
    {
     "data": {
      "text/plain": [
       "{'name': 'sashi', 'address': 'dhumbojhi', 'houseno': 4654}"
      ]
     },
     "execution_count": 7,
     "metadata": {},
     "output_type": "execute_result"
    }
   ],
   "source": [
    "dict1"
   ]
  },
  {
   "cell_type": "code",
   "execution_count": 10,
   "id": "03eb6be0",
   "metadata": {},
   "outputs": [],
   "source": [
    "dict2 = dict(name='sashi',address='dhumbojhi', houseno=456)"
   ]
  },
  {
   "cell_type": "code",
   "execution_count": 11,
   "id": "2a32ed29",
   "metadata": {},
   "outputs": [
    {
     "data": {
      "text/plain": [
       "{'name': 'sashi', 'address': 'dhumbojhi', 'houseno': 456}"
      ]
     },
     "execution_count": 11,
     "metadata": {},
     "output_type": "execute_result"
    }
   ],
   "source": [
    "dict2"
   ]
  },
  {
   "cell_type": "code",
   "execution_count": 13,
   "id": "4831be42",
   "metadata": {},
   "outputs": [],
   "source": [
    "dict2 = dict([('name','sashi'),('address','dhumbojhi')])"
   ]
  },
  {
   "cell_type": "code",
   "execution_count": 14,
   "id": "aa9a4c26",
   "metadata": {},
   "outputs": [
    {
     "data": {
      "text/plain": [
       "{'name': 'sashi', 'address': 'dhumbojhi'}"
      ]
     },
     "execution_count": 14,
     "metadata": {},
     "output_type": "execute_result"
    }
   ],
   "source": [
    "dict2"
   ]
  },
  {
   "cell_type": "code",
   "execution_count": 15,
   "id": "e75f0ece",
   "metadata": {},
   "outputs": [],
   "source": [
    "dict3 = {}"
   ]
  },
  {
   "cell_type": "code",
   "execution_count": 16,
   "id": "4efd37f9",
   "metadata": {},
   "outputs": [
    {
     "data": {
      "text/plain": [
       "{}"
      ]
     },
     "execution_count": 16,
     "metadata": {},
     "output_type": "execute_result"
    }
   ],
   "source": [
    "dict3"
   ]
  },
  {
   "cell_type": "markdown",
   "id": "94066e31",
   "metadata": {},
   "source": [
    "## Accesing items of dictionary:\n",
    "You can same way as for list and tuple to access the item of dictionary.  Only difference here is that you pass the key instead of index to get a value. \n"
   ]
  },
  {
   "cell_type": "code",
   "execution_count": 18,
   "id": "77b54316",
   "metadata": {},
   "outputs": [
    {
     "data": {
      "text/plain": [
       "{'name': 'sashi', 'address': 'dhumbojhi', 'houseno': 4654}"
      ]
     },
     "execution_count": 18,
     "metadata": {},
     "output_type": "execute_result"
    }
   ],
   "source": [
    "dict1"
   ]
  },
  {
   "cell_type": "code",
   "execution_count": 19,
   "id": "998a4972",
   "metadata": {},
   "outputs": [
    {
     "data": {
      "text/plain": [
       "'sashi'"
      ]
     },
     "execution_count": 19,
     "metadata": {},
     "output_type": "execute_result"
    }
   ],
   "source": [
    "dict1['name']"
   ]
  },
  {
   "cell_type": "code",
   "execution_count": 20,
   "id": "ca7b18a7",
   "metadata": {},
   "outputs": [
    {
     "data": {
      "text/plain": [
       "'dhumbojhi'"
      ]
     },
     "execution_count": 20,
     "metadata": {},
     "output_type": "execute_result"
    }
   ],
   "source": [
    "dict1['address']"
   ]
  },
  {
   "cell_type": "markdown",
   "id": "d11b75ae",
   "metadata": {},
   "source": [
    "## Updating and Adding the value of dictionary  \n",
    "1) Using update() method in which you give key:value pair that you want to update  \n",
    "2) Using Key-Value assignment."
   ]
  },
  {
   "cell_type": "code",
   "execution_count": 22,
   "id": "4010ea78",
   "metadata": {},
   "outputs": [],
   "source": [
    "dict1.update({'phn no':798797})"
   ]
  },
  {
   "cell_type": "code",
   "execution_count": 23,
   "id": "ef19d34a",
   "metadata": {},
   "outputs": [
    {
     "data": {
      "text/plain": [
       "{'name': 'sashi', 'address': 'dhumbojhi', 'houseno': 4654, 'phn no': 798797}"
      ]
     },
     "execution_count": 23,
     "metadata": {},
     "output_type": "execute_result"
    }
   ],
   "source": [
    "dict1"
   ]
  },
  {
   "cell_type": "code",
   "execution_count": 24,
   "id": "0bef5222",
   "metadata": {},
   "outputs": [],
   "source": [
    "dict1.update({'phn no':123456})"
   ]
  },
  {
   "cell_type": "code",
   "execution_count": 25,
   "id": "6e2c4690",
   "metadata": {},
   "outputs": [
    {
     "data": {
      "text/plain": [
       "{'name': 'sashi', 'address': 'dhumbojhi', 'houseno': 4654, 'phn no': 123456}"
      ]
     },
     "execution_count": 25,
     "metadata": {},
     "output_type": "execute_result"
    }
   ],
   "source": [
    "dict1"
   ]
  },
  {
   "cell_type": "code",
   "execution_count": 26,
   "id": "c5cbcc9a",
   "metadata": {},
   "outputs": [],
   "source": [
    "dict1['name'] = 'ram nepal'"
   ]
  },
  {
   "cell_type": "code",
   "execution_count": 27,
   "id": "92474101",
   "metadata": {},
   "outputs": [
    {
     "data": {
      "text/plain": [
       "{'name': 'ram nepal',\n",
       " 'address': 'dhumbojhi',\n",
       " 'houseno': 4654,\n",
       " 'phn no': 123456}"
      ]
     },
     "execution_count": 27,
     "metadata": {},
     "output_type": "execute_result"
    }
   ],
   "source": [
    "dict1"
   ]
  },
  {
   "cell_type": "code",
   "execution_count": null,
   "id": "6a070ac2",
   "metadata": {},
   "outputs": [],
   "source": []
  },
  {
   "cell_type": "code",
   "execution_count": null,
   "id": "5ccf2d90",
   "metadata": {},
   "outputs": [],
   "source": []
  },
  {
   "cell_type": "markdown",
   "id": "c961f110",
   "metadata": {},
   "source": [
    "## Get all the keys and values of a dictionary:  \n",
    "You can use  \n",
    "1) keys() method to get all the keys  \n",
    "2) values() method to get all the values  \n",
    "3) items() method to get all the key:value pairs in dictionary. Here, each item will be inside a tuple."
   ]
  },
  {
   "cell_type": "code",
   "execution_count": 30,
   "id": "6b3399d9",
   "metadata": {},
   "outputs": [],
   "source": [
    "x = dict1.keys()"
   ]
  },
  {
   "cell_type": "code",
   "execution_count": 29,
   "id": "f9f7b0c3",
   "metadata": {},
   "outputs": [
    {
     "data": {
      "text/plain": [
       "dict_values(['ram nepal', 'dhumbojhi', 4654, 123456])"
      ]
     },
     "execution_count": 29,
     "metadata": {},
     "output_type": "execute_result"
    }
   ],
   "source": [
    "dict1.values()"
   ]
  },
  {
   "cell_type": "code",
   "execution_count": 31,
   "id": "da41181e",
   "metadata": {},
   "outputs": [
    {
     "data": {
      "text/plain": [
       "dict_keys(['name', 'address', 'houseno', 'phn no'])"
      ]
     },
     "execution_count": 31,
     "metadata": {},
     "output_type": "execute_result"
    }
   ],
   "source": [
    "x"
   ]
  },
  {
   "cell_type": "code",
   "execution_count": 32,
   "id": "d107b54f",
   "metadata": {},
   "outputs": [
    {
     "data": {
      "text/plain": [
       "dict_items([('name', 'ram nepal'), ('address', 'dhumbojhi'), ('houseno', 4654), ('phn no', 123456)])"
      ]
     },
     "execution_count": 32,
     "metadata": {},
     "output_type": "execute_result"
    }
   ],
   "source": [
    "dict1.items()"
   ]
  },
  {
   "cell_type": "code",
   "execution_count": null,
   "id": "aa904d4b",
   "metadata": {},
   "outputs": [],
   "source": []
  },
  {
   "cell_type": "code",
   "execution_count": null,
   "id": "1fb4fddb",
   "metadata": {},
   "outputs": [],
   "source": []
  },
  {
   "cell_type": "markdown",
   "id": "8b50bd64",
   "metadata": {},
   "source": [
    "### Removing items in dictionary:\n",
    "\n",
    "|Method\t|Description|\n",
    "|:--------|:----------|\n",
    "|pop(key[,d])\t|Return and removes the item with the key and return its value. If the key is not found, it raises KeyError.|\n",
    "|popitem()\t|Return and removes the last inserted item from the dictionary. If the dictionary is empty, it raises KeyError.|\n",
    "|del key\t|The del keyword will delete the item with the key that is passed|\n",
    "|clear()\t|Removes all items from the dictionary. Empty the dictionary|\n",
    "|del dict_name\t|Delete the entire dictionary|"
   ]
  },
  {
   "cell_type": "code",
   "execution_count": 33,
   "id": "b9b24f50",
   "metadata": {},
   "outputs": [
    {
     "data": {
      "text/plain": [
       "'ram nepal'"
      ]
     },
     "execution_count": 33,
     "metadata": {},
     "output_type": "execute_result"
    }
   ],
   "source": [
    "dict1.pop('name')"
   ]
  },
  {
   "cell_type": "code",
   "execution_count": 34,
   "id": "34d1e5a8",
   "metadata": {},
   "outputs": [
    {
     "data": {
      "text/plain": [
       "{'address': 'dhumbojhi', 'houseno': 4654, 'phn no': 123456}"
      ]
     },
     "execution_count": 34,
     "metadata": {},
     "output_type": "execute_result"
    }
   ],
   "source": [
    "dict1"
   ]
  },
  {
   "cell_type": "code",
   "execution_count": 35,
   "id": "5d560574",
   "metadata": {},
   "outputs": [],
   "source": [
    "del dict1['address']"
   ]
  },
  {
   "cell_type": "code",
   "execution_count": 36,
   "id": "9eb36a59",
   "metadata": {},
   "outputs": [
    {
     "data": {
      "text/plain": [
       "{'houseno': 4654, 'phn no': 123456}"
      ]
     },
     "execution_count": 36,
     "metadata": {},
     "output_type": "execute_result"
    }
   ],
   "source": [
    "dict1"
   ]
  },
  {
   "cell_type": "code",
   "execution_count": 37,
   "id": "52ab4705",
   "metadata": {},
   "outputs": [],
   "source": [
    "dict1.clear()"
   ]
  },
  {
   "cell_type": "code",
   "execution_count": 38,
   "id": "3bc53897",
   "metadata": {},
   "outputs": [
    {
     "data": {
      "text/plain": [
       "{}"
      ]
     },
     "execution_count": 38,
     "metadata": {},
     "output_type": "execute_result"
    }
   ],
   "source": [
    "dict1"
   ]
  },
  {
   "cell_type": "code",
   "execution_count": null,
   "id": "ed0b41cb",
   "metadata": {},
   "outputs": [],
   "source": []
  },
  {
   "cell_type": "code",
   "execution_count": null,
   "id": "eadf8080",
   "metadata": {},
   "outputs": [],
   "source": []
  }
 ],
 "metadata": {
  "kernelspec": {
   "display_name": "Python 3",
   "language": "python",
   "name": "python3"
  },
  "language_info": {
   "codemirror_mode": {
    "name": "ipython",
    "version": 3
   },
   "file_extension": ".py",
   "mimetype": "text/x-python",
   "name": "python",
   "nbconvert_exporter": "python",
   "pygments_lexer": "ipython3",
   "version": "3.8.8"
  }
 },
 "nbformat": 4,
 "nbformat_minor": 5
}
